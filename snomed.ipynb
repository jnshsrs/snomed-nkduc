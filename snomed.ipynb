{
 "cells": [
  {
   "cell_type": "markdown",
   "metadata": {},
   "source": [
    "Import data"
   ]
  },
  {
   "cell_type": "code",
   "execution_count": 3,
   "metadata": {},
   "outputs": [],
   "source": [
    "import pandas as pd\n",
    "from statsmodels.stats.inter_rater import fleiss_kappa\n",
    "import numpy as np\n",
    "res = pd.read_csv(\"/Users/jens/r-projects/proj_packages/snomed/data/mapping-results.csv\")\n",
    "\n",
    "# res.finales_konzept = res.finales_konzept.map({1: True, 1: False}).astype('bool')"
   ]
  },
  {
   "cell_type": "markdown",
   "metadata": {},
   "source": [
    "# Analysis of the SNOMED Mapping"
   ]
  },
  {
   "cell_type": "code",
   "execution_count": 4,
   "metadata": {},
   "outputs": [],
   "source": [
    "# Recode Kapitel\n",
    "chapters_de = {\n",
    "    1: \"Stammdaten\",\n",
    "    2: \"Allgemeinstatus\",\n",
    "    3: \"Wundanamnese\",\n",
    "    4: \"Wundstatus\",\n",
    "    5: \"Diagnostik\",\n",
    "    6: \"Therapie\",\n",
    "    7: \"Patient Related Outcome (PRO)\",\n",
    "    8: \"Ernährung\",\n",
    "    9: \"Edukation\"\n",
    "}\n",
    "\n",
    "res.kapitel = res.kapitel.map(chapters_de)\n",
    "res.kapitel = res.kapitel.astype('category').cat.as_ordered()"
   ]
  },
  {
   "cell_type": "code",
   "execution_count": 5,
   "metadata": {},
   "outputs": [],
   "source": [
    "# Compute the number of items in the chapters\n",
    "n_chapter = res.loc[:, ['kapitelbezeichnung', 'id']].drop_duplicates('id').groupby('kapitelbezeichnung').count()\n",
    "#n_overall = res.loc[:, ['id']].drop_duplicates('id').shape[0]\n",
    "#pd.DataFrame({n_overall, index=['Overall']})\n",
    "n_chapter.loc['Overall'] = n_chapter.sum(axis=0)\n",
    "n_chapter.columns = ['n']"
   ]
  },
  {
   "cell_type": "code",
   "execution_count": 6,
   "metadata": {},
   "outputs": [],
   "source": [
    "# Equivalence Labels\n",
    "equ_cat = res.equ_jens.drop_duplicates().sort_values()\n",
    "iso_categories = {\n",
    "    'Equivalence of meaning; lexical, as well as conceptual': 1,\n",
    "    'Equivalence of meaning, but with synonymy.': 2,\n",
    "    'Source concept is broader and has a less specific meaning than the target concept': 3,\n",
    "    'Source concept is narrower and has a more specific meaning than the target concept': 4,\n",
    "    'No map is possible': 5, \n",
    "}"
   ]
  },
  {
   "cell_type": "markdown",
   "metadata": {},
   "source": [
    "## Agreement"
   ]
  },
  {
   "cell_type": "code",
   "execution_count": 7,
   "metadata": {},
   "outputs": [],
   "source": [
    "mapping = res.pivot(index = \"id\", columns= \"id_mapper\", values= \"snomed_code\")\n",
    "mapping.columns = [\"map1\", \"map2\", \"map3\"]\n",
    "\n",
    "mapping['agree2'] = mapping.iloc[:, 1] == mapping.iloc[:, 2]\n",
    "mapping['agree3'] = mapping.iloc[:, 0] == mapping.iloc[:, 2]\n",
    "mapping['agree1'] = mapping.iloc[:, 0] == mapping.iloc[:, 1]\n",
    "\n",
    "mapping.loc[:, 'agreement_perc'] = mapping.loc[:, ['agree1', 'agree2', 'agree3']].astype('int').sum(axis=1) / 3\n",
    "mapping = res.loc[:, ['id', 'kapitelbezeichnung']].merge(right=mapping.reset_index(), on='id')\n",
    "\n",
    "agree = mapping.loc[:, ['kapitelbezeichnung', 'agreement_perc']].groupby('kapitelbezeichnung').apply(np.mean)\n",
    "\n",
    "agree.loc['Overall'] = mapping.agreement_perc.mean()"
   ]
  },
  {
   "cell_type": "markdown",
   "metadata": {},
   "source": [
    "## Fleiss-Kappa"
   ]
  },
  {
   "cell_type": "code",
   "execution_count": 8,
   "metadata": {},
   "outputs": [],
   "source": [
    "def reshape_for_fleiss_kappa(data, index='id', columns='snomed_code', n_rater=3):\n",
    "    \"\"\"\n",
    "    Restructures the dataframe to compute the Fleiss Kappa Value\n",
    "    \n",
    "    Parameters\n",
    "    ----------\n",
    "    data : pandas.DataFrame\n",
    "        A dataframe with columns snomed_code, id (the item id of the nkduc items)\n",
    "\n",
    "    Returns\n",
    "    -------\n",
    "    numpy.array\n",
    "        A numpy array, which columns represent the snomed_ct code and rows an item of the NKDUC\n",
    "        The values in the cells represent the number of raters, who chose the code for the NKDUC items\n",
    "    \"\"\"\n",
    "    # Reshape data\n",
    "    # add a column with only ones (to count the number of agreements)\n",
    "    data.loc[:, 'cnt'] = np.array([1 for i in range(data.shape[0])]) \n",
    "    # To compute fleiss kappa, the data has to be reshaped into a structure \n",
    "    # in which nkduc items are in the rows and each snomed concept is in a col\n",
    "    agreement = data.pivot_table(values='cnt', index=index, columns=columns, aggfunc='sum', fill_value = 0) # reshape data\n",
    "    # print(np.array(agreement).sum(axis=1))\n",
    "    assert all(np.array(agreement).sum(axis=1) == n_rater) # row sums should all be three (three ratings for each item)\n",
    "    return agreement"
   ]
  },
  {
   "cell_type": "code",
   "execution_count": 9,
   "metadata": {},
   "outputs": [
    {
     "name": "stderr",
     "output_type": "stream",
     "text": [
      "/Users/jens/anaconda3/lib/python3.7/site-packages/pandas/core/indexing.py:362: SettingWithCopyWarning: \n",
      "A value is trying to be set on a copy of a slice from a DataFrame.\n",
      "Try using .loc[row_indexer,col_indexer] = value instead\n",
      "\n",
      "See the caveats in the documentation: http://pandas.pydata.org/pandas-docs/stable/indexing.html#indexing-view-versus-copy\n",
      "  self.obj[key] = _infer_fill_value(value)\n",
      "/Users/jens/anaconda3/lib/python3.7/site-packages/pandas/core/indexing.py:543: SettingWithCopyWarning: \n",
      "A value is trying to be set on a copy of a slice from a DataFrame.\n",
      "Try using .loc[row_indexer,col_indexer] = value instead\n",
      "\n",
      "See the caveats in the documentation: http://pandas.pydata.org/pandas-docs/stable/indexing.html#indexing-view-versus-copy\n",
      "  self.obj[item] = s\n"
     ]
    }
   ],
   "source": [
    "d = {}\n",
    "for chapter in res.kapitelbezeichnung.drop_duplicates().values:\n",
    "    df = res.loc[res.kapitelbezeichnung == chapter, :]\n",
    "    fk_result = fleiss_kappa(reshape_for_fleiss_kappa(df))\n",
    "    d[chapter] = fk_result\n",
    "    \n",
    "d['Overall'] = fleiss_kappa(reshape_for_fleiss_kappa(res))\n",
    "\n",
    "kappa = pd.DataFrame(d, index=[0]).transpose()\n",
    "kappa.columns = ['kappa']"
   ]
  },
  {
   "cell_type": "code",
   "execution_count": 10,
   "metadata": {},
   "outputs": [],
   "source": [
    "mapping = agree.merge(kappa, left_index = True, right_index=True).merge(n_chapter, left_index=True, right_index=True)"
   ]
  },
  {
   "cell_type": "code",
   "execution_count": 11,
   "metadata": {},
   "outputs": [
    {
     "data": {
      "text/html": [
       "<div>\n",
       "<style scoped>\n",
       "    .dataframe tbody tr th:only-of-type {\n",
       "        vertical-align: middle;\n",
       "    }\n",
       "\n",
       "    .dataframe tbody tr th {\n",
       "        vertical-align: top;\n",
       "    }\n",
       "\n",
       "    .dataframe thead th {\n",
       "        text-align: right;\n",
       "    }\n",
       "</style>\n",
       "<table border=\"1\" class=\"dataframe\">\n",
       "  <thead>\n",
       "    <tr style=\"text-align: right;\">\n",
       "      <th></th>\n",
       "      <th>agreement_perc</th>\n",
       "      <th>kappa</th>\n",
       "      <th>n</th>\n",
       "    </tr>\n",
       "    <tr>\n",
       "      <th>kapitelbezeichnung</th>\n",
       "      <th></th>\n",
       "      <th></th>\n",
       "      <th></th>\n",
       "    </tr>\n",
       "  </thead>\n",
       "  <tbody>\n",
       "    <tr>\n",
       "      <th>01 Stammdaten</th>\n",
       "      <td>0.607843</td>\n",
       "      <td>0.575000</td>\n",
       "      <td>34</td>\n",
       "    </tr>\n",
       "    <tr>\n",
       "      <th>02 Allgemeinstatus</th>\n",
       "      <td>0.757576</td>\n",
       "      <td>0.753668</td>\n",
       "      <td>66</td>\n",
       "    </tr>\n",
       "    <tr>\n",
       "      <th>03 Wundanamnese</th>\n",
       "      <td>0.583333</td>\n",
       "      <td>0.567827</td>\n",
       "      <td>24</td>\n",
       "    </tr>\n",
       "    <tr>\n",
       "      <th>04 Wundstatus</th>\n",
       "      <td>0.385965</td>\n",
       "      <td>0.365861</td>\n",
       "      <td>57</td>\n",
       "    </tr>\n",
       "    <tr>\n",
       "      <th>05 Diagnostik</th>\n",
       "      <td>0.333333</td>\n",
       "      <td>0.280294</td>\n",
       "      <td>14</td>\n",
       "    </tr>\n",
       "    <tr>\n",
       "      <th>06 Therapie</th>\n",
       "      <td>0.397260</td>\n",
       "      <td>0.367274</td>\n",
       "      <td>73</td>\n",
       "    </tr>\n",
       "    <tr>\n",
       "      <th>Overall</th>\n",
       "      <td>0.523632</td>\n",
       "      <td>0.512113</td>\n",
       "      <td>268</td>\n",
       "    </tr>\n",
       "  </tbody>\n",
       "</table>\n",
       "</div>"
      ],
      "text/plain": [
       "                    agreement_perc     kappa    n\n",
       "kapitelbezeichnung                               \n",
       "01 Stammdaten             0.607843  0.575000   34\n",
       "02 Allgemeinstatus        0.757576  0.753668   66\n",
       "03 Wundanamnese           0.583333  0.567827   24\n",
       "04 Wundstatus             0.385965  0.365861   57\n",
       "05 Diagnostik             0.333333  0.280294   14\n",
       "06 Therapie               0.397260  0.367274   73\n",
       "Overall                   0.523632  0.512113  268"
      ]
     },
     "metadata": {},
     "output_type": "display_data"
    }
   ],
   "source": [
    "# Display Mapping Reliability Results\n",
    "display(mapping)"
   ]
  },
  {
   "cell_type": "markdown",
   "metadata": {},
   "source": [
    "# Analysis of the Equivalence Rating\n",
    "\n",
    "## Fleiss-Kappa Statistic"
   ]
  },
  {
   "cell_type": "code",
   "execution_count": 12,
   "metadata": {},
   "outputs": [],
   "source": [
    "# Overall Kappa\n",
    "df1 = res.loc[:, ['equ_jens', 'equ_mareike']].reset_index()\n",
    "df2 = df1.melt(id_vars='index')\n",
    "df3 = df2.pivot_table(values='variable', columns='value', aggfunc='count', index='index', fill_value=0)\n",
    "kappa = {'Overall': fleiss_kappa(df3)}\n",
    "\n",
    "# Kappa by NKDUC Chapter\n",
    "for chapter in res.kapitelbezeichnung.drop_duplicates().values:\n",
    "    df1 = res.loc[res.kapitelbezeichnung == chapter, ['equ_jens', 'equ_mareike']].reset_index()\n",
    "    df2 = df1.melt(id_vars='index')\n",
    "    df3 = df2.pivot_table(values='variable', columns='value', aggfunc='count', index='index', fill_value=0)\n",
    "    kappa[chapter] = fleiss_kappa(df3)\n",
    "\n",
    "kappa = pd.DataFrame(kappa, index=[0]).transpose()\n",
    "kappa.columns = ['kappa']"
   ]
  },
  {
   "cell_type": "markdown",
   "metadata": {},
   "source": [
    "## Agreement"
   ]
  },
  {
   "cell_type": "code",
   "execution_count": 13,
   "metadata": {},
   "outputs": [],
   "source": [
    "agreement_chapter = res.loc[:, ['kapitelbezeichnung', 'agreement']].groupby('kapitelbezeichnung').apply(np.mean)\n",
    "agreement_overall = res.loc[:, ['agreement']].apply(np.mean)\n",
    "agreement_overall = pd.DataFrame({'Overall': agreement_overall}).transpose()\n",
    "agreement = agreement_chapter.append(agreement_overall)"
   ]
  },
  {
   "cell_type": "code",
   "execution_count": 14,
   "metadata": {},
   "outputs": [],
   "source": [
    "# Merge kappa and agreement values\n",
    "agreement_kappa = pd.merge(kappa, agreement, left_index=True, right_index=True).merge(n_chapter, left_index=True, right_index=True)"
   ]
  },
  {
   "cell_type": "code",
   "execution_count": 15,
   "metadata": {
    "slideshow": {
     "slide_type": "-"
    }
   },
   "outputs": [
    {
     "data": {
      "text/html": [
       "<div>\n",
       "<style scoped>\n",
       "    .dataframe tbody tr th:only-of-type {\n",
       "        vertical-align: middle;\n",
       "    }\n",
       "\n",
       "    .dataframe tbody tr th {\n",
       "        vertical-align: top;\n",
       "    }\n",
       "\n",
       "    .dataframe thead th {\n",
       "        text-align: right;\n",
       "    }\n",
       "</style>\n",
       "<table border=\"1\" class=\"dataframe\">\n",
       "  <thead>\n",
       "    <tr style=\"text-align: right;\">\n",
       "      <th></th>\n",
       "      <th>kappa</th>\n",
       "      <th>agreement</th>\n",
       "      <th>n</th>\n",
       "    </tr>\n",
       "  </thead>\n",
       "  <tbody>\n",
       "    <tr>\n",
       "      <th>Overall</th>\n",
       "      <td>0.702432</td>\n",
       "      <td>0.784826</td>\n",
       "      <td>268</td>\n",
       "    </tr>\n",
       "    <tr>\n",
       "      <th>01 Stammdaten</th>\n",
       "      <td>0.771557</td>\n",
       "      <td>0.833333</td>\n",
       "      <td>34</td>\n",
       "    </tr>\n",
       "    <tr>\n",
       "      <th>02 Allgemeinstatus</th>\n",
       "      <td>0.834628</td>\n",
       "      <td>0.898990</td>\n",
       "      <td>66</td>\n",
       "    </tr>\n",
       "    <tr>\n",
       "      <th>03 Wundanamnese</th>\n",
       "      <td>0.582551</td>\n",
       "      <td>0.708333</td>\n",
       "      <td>24</td>\n",
       "    </tr>\n",
       "    <tr>\n",
       "      <th>04 Wundstatus</th>\n",
       "      <td>0.640876</td>\n",
       "      <td>0.742690</td>\n",
       "      <td>57</td>\n",
       "    </tr>\n",
       "    <tr>\n",
       "      <th>05 Diagnostik</th>\n",
       "      <td>0.407960</td>\n",
       "      <td>0.595238</td>\n",
       "      <td>14</td>\n",
       "    </tr>\n",
       "    <tr>\n",
       "      <th>06 Therapie</th>\n",
       "      <td>0.666944</td>\n",
       "      <td>0.753425</td>\n",
       "      <td>73</td>\n",
       "    </tr>\n",
       "  </tbody>\n",
       "</table>\n",
       "</div>"
      ],
      "text/plain": [
       "                       kappa  agreement    n\n",
       "Overall             0.702432   0.784826  268\n",
       "01 Stammdaten       0.771557   0.833333   34\n",
       "02 Allgemeinstatus  0.834628   0.898990   66\n",
       "03 Wundanamnese     0.582551   0.708333   24\n",
       "04 Wundstatus       0.640876   0.742690   57\n",
       "05 Diagnostik       0.407960   0.595238   14\n",
       "06 Therapie         0.666944   0.753425   73"
      ]
     },
     "metadata": {},
     "output_type": "display_data"
    }
   ],
   "source": [
    "# Display Equivalence Rating Results\n",
    "display(agreement_kappa)"
   ]
  },
  {
   "cell_type": "markdown",
   "metadata": {},
   "source": [
    "# Coverage Rate"
   ]
  },
  {
   "cell_type": "code",
   "execution_count": 16,
   "metadata": {},
   "outputs": [
    {
     "data": {
      "text/plain": [
       "True"
      ]
     },
     "execution_count": 16,
     "metadata": {},
     "output_type": "execute_result"
    }
   ],
   "source": [
    "all(res.loc[:, ['id','finales_konzept']].groupby('id').count().finales_konzept == 3)"
   ]
  },
  {
   "cell_type": "code",
   "execution_count": 17,
   "metadata": {},
   "outputs": [
    {
     "data": {
      "text/plain": [
       "(268, 2)"
      ]
     },
     "execution_count": 17,
     "metadata": {},
     "output_type": "execute_result"
    }
   ],
   "source": [
    "concept_ids = res.drop_duplicates(['id']).loc[:, ['id']]\n",
    "df=res.loc[res.finales_konzept==1, ['id','snomed_code', 'finaler_beschluss', 'descriptor','finales_konzept']]\n",
    "df.head()\n",
    "df.groupby('id').apply(np.mean).shape[0]\n",
    "res.loc[:, ['id', 'map']].drop_duplicates().shape"
   ]
  },
  {
   "cell_type": "code",
   "execution_count": 18,
   "metadata": {},
   "outputs": [],
   "source": [
    "final_map=res.loc[res.finales_konzept==1, ['id','snomed_code', 'descriptor', 'equi_final']].drop_duplicates()\n",
    "final_map=res.drop_duplicates('id').loc[:, ['id', 'kapitelbezeichnung', 'finaler_beschluss']].merge(final_map, on='id', how='left')\n",
    "final_map.loc[:, 'descriptor'] = final_map['descriptor'].fillna('no map')\n",
    "final_map.loc[:, 'snomed_code'] = final_map['snomed_code'].fillna('no map')\n",
    "final_map.loc[:, 'equi_final'] = final_map['equi_final'].fillna('No map is possible')\n",
    "final_map['snomed_code'] = final_map['snomed_code'].apply(lambda x: False if x == 'no map' else True)"
   ]
  },
  {
   "cell_type": "code",
   "execution_count": 19,
   "metadata": {},
   "outputs": [
    {
     "data": {
      "text/html": [
       "<div>\n",
       "<style scoped>\n",
       "    .dataframe tbody tr th:only-of-type {\n",
       "        vertical-align: middle;\n",
       "    }\n",
       "\n",
       "    .dataframe tbody tr th {\n",
       "        vertical-align: top;\n",
       "    }\n",
       "\n",
       "    .dataframe thead th {\n",
       "        text-align: right;\n",
       "    }\n",
       "</style>\n",
       "<table border=\"1\" class=\"dataframe\">\n",
       "  <thead>\n",
       "    <tr style=\"text-align: right;\">\n",
       "      <th></th>\n",
       "      <th>count</th>\n",
       "      <th>mean</th>\n",
       "    </tr>\n",
       "    <tr>\n",
       "      <th>kapitelbezeichnung</th>\n",
       "      <th></th>\n",
       "      <th></th>\n",
       "    </tr>\n",
       "  </thead>\n",
       "  <tbody>\n",
       "    <tr>\n",
       "      <th>01 Stammdaten</th>\n",
       "      <td>34</td>\n",
       "      <td>0.647059</td>\n",
       "    </tr>\n",
       "    <tr>\n",
       "      <th>02 Allgemeinstatus</th>\n",
       "      <td>66</td>\n",
       "      <td>0.893939</td>\n",
       "    </tr>\n",
       "    <tr>\n",
       "      <th>03 Wundanamnese</th>\n",
       "      <td>24</td>\n",
       "      <td>0.833333</td>\n",
       "    </tr>\n",
       "    <tr>\n",
       "      <th>04 Wundstatus</th>\n",
       "      <td>57</td>\n",
       "      <td>0.771930</td>\n",
       "    </tr>\n",
       "    <tr>\n",
       "      <th>05 Diagnostik</th>\n",
       "      <td>14</td>\n",
       "      <td>0.785714</td>\n",
       "    </tr>\n",
       "    <tr>\n",
       "      <th>06 Therapie</th>\n",
       "      <td>73</td>\n",
       "      <td>0.780822</td>\n",
       "    </tr>\n",
       "  </tbody>\n",
       "</table>\n",
       "</div>"
      ],
      "text/plain": [
       "                    count      mean\n",
       "kapitelbezeichnung                 \n",
       "01 Stammdaten          34  0.647059\n",
       "02 Allgemeinstatus     66  0.893939\n",
       "03 Wundanamnese        24  0.833333\n",
       "04 Wundstatus          57  0.771930\n",
       "05 Diagnostik          14  0.785714\n",
       "06 Therapie            73  0.780822"
      ]
     },
     "execution_count": 19,
     "metadata": {},
     "output_type": "execute_result"
    }
   ],
   "source": [
    "final_map.pivot_table(index='kapitelbezeichnung', values='snomed_code', aggfunc=('count', 'mean'))"
   ]
  },
  {
   "cell_type": "code",
   "execution_count": 20,
   "metadata": {},
   "outputs": [],
   "source": [
    "cont_table = final_map.pivot_table(index='equi_final', values='snomed_code', columns='kapitelbezeichnung', aggfunc='count')"
   ]
  },
  {
   "cell_type": "code",
   "execution_count": 21,
   "metadata": {},
   "outputs": [],
   "source": [
    "assert np.array(cont_table.fillna(0)).sum()==268 # Check that 268 items are included in the coverage rate analysis"
   ]
  },
  {
   "cell_type": "code",
   "execution_count": 22,
   "metadata": {},
   "outputs": [],
   "source": [
    "# Count number of items (equality categories) in each chapter and each categories\n",
    "df1 = final_map.pivot_table(index=['kapitelbezeichnung', 'equi_final'], values='snomed_code', aggfunc='count').reset_index()"
   ]
  },
  {
   "cell_type": "code",
   "execution_count": 23,
   "metadata": {},
   "outputs": [],
   "source": [
    "# Add the count of items in each chapter so that the proportion of matches can be computed for\n",
    "# each chapter and each matching category\n",
    "# e.g., 12 items in 01-Allgemeinstatus had a match of category 5: no map is possible\n",
    "df2=df1.merge(n_chapter, right_index=True, left_on='kapitelbezeichnung', how='left')\n",
    "# This line actually computes the percentage/ coverage rate dependent of the chapter + category (see above)\n",
    "df2.loc[:, 'coverage_perc']=df2.snomed_code / df2.n\n",
    "\n",
    "# Pretty print\n",
    "# Add number of total items and the relative items\n",
    "l = list()\n",
    "for i in range(df2.shape[0]):\n",
    "    l.append(\"{:.1%} (n={})\".format(df2.coverage_perc[i], df2.snomed_code[i]))\n",
    "# Append the computes values as new column to pd.dataframe\n",
    "df2.loc[:, 'coverage'] = pd.Series(l)"
   ]
  },
  {
   "cell_type": "code",
   "execution_count": 24,
   "metadata": {},
   "outputs": [],
   "source": [
    "assert all(df2.groupby('kapitelbezeichnung').coverage_perc.sum().values == 1) # check if perc adds up to 1 (100%)"
   ]
  },
  {
   "cell_type": "code",
   "execution_count": 25,
   "metadata": {},
   "outputs": [
    {
     "data": {
      "text/html": [
       "<div>\n",
       "<style scoped>\n",
       "    .dataframe tbody tr th:only-of-type {\n",
       "        vertical-align: middle;\n",
       "    }\n",
       "\n",
       "    .dataframe tbody tr th {\n",
       "        vertical-align: top;\n",
       "    }\n",
       "\n",
       "    .dataframe thead th {\n",
       "        text-align: right;\n",
       "    }\n",
       "</style>\n",
       "<table border=\"1\" class=\"dataframe\">\n",
       "  <thead>\n",
       "    <tr style=\"text-align: right;\">\n",
       "      <th>kapitelbezeichnung</th>\n",
       "      <th>01 Stammdaten</th>\n",
       "      <th>02 Allgemeinstatus</th>\n",
       "      <th>03 Wundanamnese</th>\n",
       "      <th>04 Wundstatus</th>\n",
       "      <th>05 Diagnostik</th>\n",
       "      <th>06 Therapie</th>\n",
       "    </tr>\n",
       "    <tr>\n",
       "      <th>equi_final</th>\n",
       "      <th></th>\n",
       "      <th></th>\n",
       "      <th></th>\n",
       "      <th></th>\n",
       "      <th></th>\n",
       "      <th></th>\n",
       "    </tr>\n",
       "  </thead>\n",
       "  <tbody>\n",
       "    <tr>\n",
       "      <th>Equivalence of meaning; lexical, as well as conceptual</th>\n",
       "      <td>23.5% (n=8)</td>\n",
       "      <td>59.1% (n=39)</td>\n",
       "      <td>50.0% (n=12)</td>\n",
       "      <td>43.9% (n=25)</td>\n",
       "      <td>35.7% (n=5)</td>\n",
       "      <td>38.4% (n=28)</td>\n",
       "    </tr>\n",
       "    <tr>\n",
       "      <th>Equivalence of meaning, but with synonymy.</th>\n",
       "      <td>26.5% (n=9)</td>\n",
       "      <td>24.2% (n=16)</td>\n",
       "      <td>25.0% (n=6)</td>\n",
       "      <td>21.1% (n=12)</td>\n",
       "      <td>21.4% (n=3)</td>\n",
       "      <td>23.3% (n=17)</td>\n",
       "    </tr>\n",
       "    <tr>\n",
       "      <th>Source concept is broader and has a less specific meaning than the target concept</th>\n",
       "      <td>2.9% (n=1)</td>\n",
       "      <td>3.0% (n=2)</td>\n",
       "      <td>4.2% (n=1)</td>\n",
       "      <td>1.8% (n=1)</td>\n",
       "      <td>-</td>\n",
       "      <td>1.4% (n=1)</td>\n",
       "    </tr>\n",
       "    <tr>\n",
       "      <th>Source concept is narrower and has a more specific meaning than the target concept</th>\n",
       "      <td>11.8% (n=4)</td>\n",
       "      <td>3.0% (n=2)</td>\n",
       "      <td>-</td>\n",
       "      <td>10.5% (n=6)</td>\n",
       "      <td>21.4% (n=3)</td>\n",
       "      <td>15.1% (n=11)</td>\n",
       "    </tr>\n",
       "    <tr>\n",
       "      <th>No map is possible</th>\n",
       "      <td>35.3% (n=12)</td>\n",
       "      <td>10.6% (n=7)</td>\n",
       "      <td>20.8% (n=5)</td>\n",
       "      <td>22.8% (n=13)</td>\n",
       "      <td>21.4% (n=3)</td>\n",
       "      <td>21.9% (n=16)</td>\n",
       "    </tr>\n",
       "  </tbody>\n",
       "</table>\n",
       "</div>"
      ],
      "text/plain": [
       "kapitelbezeichnung                                 01 Stammdaten  \\\n",
       "equi_final                                                         \n",
       "Equivalence of meaning; lexical, as well as con...   23.5% (n=8)   \n",
       "Equivalence of meaning, but with synonymy.           26.5% (n=9)   \n",
       "Source concept is broader and has a less specif...    2.9% (n=1)   \n",
       "Source concept is narrower and has a more speci...   11.8% (n=4)   \n",
       "No map is possible                                  35.3% (n=12)   \n",
       "\n",
       "kapitelbezeichnung                                 02 Allgemeinstatus  \\\n",
       "equi_final                                                              \n",
       "Equivalence of meaning; lexical, as well as con...       59.1% (n=39)   \n",
       "Equivalence of meaning, but with synonymy.               24.2% (n=16)   \n",
       "Source concept is broader and has a less specif...         3.0% (n=2)   \n",
       "Source concept is narrower and has a more speci...         3.0% (n=2)   \n",
       "No map is possible                                        10.6% (n=7)   \n",
       "\n",
       "kapitelbezeichnung                                 03 Wundanamnese  \\\n",
       "equi_final                                                           \n",
       "Equivalence of meaning; lexical, as well as con...    50.0% (n=12)   \n",
       "Equivalence of meaning, but with synonymy.             25.0% (n=6)   \n",
       "Source concept is broader and has a less specif...      4.2% (n=1)   \n",
       "Source concept is narrower and has a more speci...               -   \n",
       "No map is possible                                     20.8% (n=5)   \n",
       "\n",
       "kapitelbezeichnung                                 04 Wundstatus  \\\n",
       "equi_final                                                         \n",
       "Equivalence of meaning; lexical, as well as con...  43.9% (n=25)   \n",
       "Equivalence of meaning, but with synonymy.          21.1% (n=12)   \n",
       "Source concept is broader and has a less specif...    1.8% (n=1)   \n",
       "Source concept is narrower and has a more speci...   10.5% (n=6)   \n",
       "No map is possible                                  22.8% (n=13)   \n",
       "\n",
       "kapitelbezeichnung                                 05 Diagnostik   06 Therapie  \n",
       "equi_final                                                                      \n",
       "Equivalence of meaning; lexical, as well as con...   35.7% (n=5)  38.4% (n=28)  \n",
       "Equivalence of meaning, but with synonymy.           21.4% (n=3)  23.3% (n=17)  \n",
       "Source concept is broader and has a less specif...             -    1.4% (n=1)  \n",
       "Source concept is narrower and has a more speci...   21.4% (n=3)  15.1% (n=11)  \n",
       "No map is possible                                   21.4% (n=3)  21.9% (n=16)  "
      ]
     },
     "metadata": {},
     "output_type": "display_data"
    }
   ],
   "source": [
    "# Actually format for display the data (pivot_wide: Chapters in cols and equi categories in the rows)\n",
    "df3=df2.pivot(index='equi_final', columns='kapitelbezeichnung', values='coverage').fillna(\"-\").reset_index()\n",
    "df3.loc[:, 'equi_final'] = df3.equi_final.astype('category')\n",
    "df3.loc[:, 'equi_final'] = df3['equi_final'].cat.reorder_categories(list(iso_categories.keys()))\n",
    "df3 = df3.sort_values(by='equi_final')\n",
    "df3.set_index('equi_final', inplace=True)\n",
    "# Display Detailled Coverage Rate\n",
    "display(df3)"
   ]
  },
  {
   "cell_type": "code",
   "execution_count": 26,
   "metadata": {},
   "outputs": [],
   "source": [
    "#df2.loc[:, 'equi_final'] = df2.equi_final.astype('category', categories=list(d.keys()), ordered=True)\n",
    "iso_categories_aggregated = {\n",
    "    'Equivalence of meaning; lexical, as well as conceptual': 'Semantic Match present (Degree 1 and 2)',\n",
    "    'Equivalence of meaning, but with synonymy.': 'Semantic Match present (Degree 1 and 2)',\n",
    "    'Source concept is broader and has a less specific meaning than the target concept': 'Semantic Asymmetry present (Degree 3 and 4)',\n",
    "    'Source concept is narrower and has a more specific meaning than the target concept': 'Semantic Asymmetry present (Degree 3 and 4)',\n",
    "    'No map is possible': 'Semantic Match absent (Degree 5)', \n",
    "}\n"
   ]
  },
  {
   "cell_type": "code",
   "execution_count": 27,
   "metadata": {},
   "outputs": [],
   "source": [
    "iso_categories_agg = pd.DataFrame(iso_categories_aggregated, index=[0]).transpose().reset_index()\n",
    "iso_categories_agg.columns = ['complete', 'aggregated']\n",
    "\n",
    "equi_cats = df2.merge(iso_categories_agg, left_on='equi_final', right_on='complete', how='left')\n",
    "\n",
    "equi_cats = equi_cats.loc[:, ['kapitelbezeichnung', 'aggregated', 'snomed_code']]\n",
    "equi_cats = equi_cats.groupby(['kapitelbezeichnung', 'aggregated']).agg(np.sum)\n",
    "equi_cats = equi_cats.reset_index().merge(n_chapter, left_on='kapitelbezeichnung', right_index=True)\n",
    "equi_cats.loc[:, 'coverage_perc'] = equi_cats.snomed_code / equi_cats.n\n",
    "equi_cats\n",
    "\n",
    "\n",
    "# Pretty print (relative + absolute value in one column)\n",
    "for i in range(equi_cats.shape[0]):\n",
    "    l.append(\"{:.1%} (n={})\".format(equi_cats.coverage_perc[i], equi_cats.snomed_code[i]))\n",
    "# Append the computes values as new column to pd.dataframe\n",
    "equi_cats.loc[:, 'coverage'] = pd.Series(l)\n",
    "\n",
    "category_order = pd.Series(list(iso_categories_aggregated.values())).drop_duplicates().values\n",
    "equi_cats.loc[:, 'aggregated'] = equi_cats.aggregated.astype('category')\n",
    "equi_cats.loc[:, 'aggregated'] = equi_cats.aggregated.cat.reorder_categories(new_categories=category_order, ordered=True)"
   ]
  },
  {
   "cell_type": "code",
   "execution_count": 28,
   "metadata": {},
   "outputs": [
    {
     "data": {
      "text/html": [
       "<div>\n",
       "<style scoped>\n",
       "    .dataframe tbody tr th:only-of-type {\n",
       "        vertical-align: middle;\n",
       "    }\n",
       "\n",
       "    .dataframe tbody tr th {\n",
       "        vertical-align: top;\n",
       "    }\n",
       "\n",
       "    .dataframe thead th {\n",
       "        text-align: right;\n",
       "    }\n",
       "</style>\n",
       "<table border=\"1\" class=\"dataframe\">\n",
       "  <thead>\n",
       "    <tr style=\"text-align: right;\">\n",
       "      <th>kapitelbezeichnung</th>\n",
       "      <th>01 Stammdaten</th>\n",
       "      <th>02 Allgemeinstatus</th>\n",
       "      <th>03 Wundanamnese</th>\n",
       "      <th>04 Wundstatus</th>\n",
       "      <th>05 Diagnostik</th>\n",
       "      <th>06 Therapie</th>\n",
       "    </tr>\n",
       "    <tr>\n",
       "      <th>aggregated</th>\n",
       "      <th></th>\n",
       "      <th></th>\n",
       "      <th></th>\n",
       "      <th></th>\n",
       "      <th></th>\n",
       "      <th></th>\n",
       "    </tr>\n",
       "  </thead>\n",
       "  <tbody>\n",
       "    <tr>\n",
       "      <th>Semantic Match present (Degree 1 and 2)</th>\n",
       "      <td>35.3% (n=12)</td>\n",
       "      <td>24.2% (n=16)</td>\n",
       "      <td>3.0% (n=2)</td>\n",
       "      <td>50.0% (n=12)</td>\n",
       "      <td>21.1% (n=12)</td>\n",
       "      <td>1.8% (n=1)</td>\n",
       "    </tr>\n",
       "    <tr>\n",
       "      <th>Semantic Asymmetry present (Degree 3 and 4)</th>\n",
       "      <td>26.5% (n=9)</td>\n",
       "      <td>2.9% (n=1)</td>\n",
       "      <td>59.1% (n=39)</td>\n",
       "      <td>3.0% (n=2)</td>\n",
       "      <td>20.8% (n=5)</td>\n",
       "      <td>43.9% (n=25)</td>\n",
       "    </tr>\n",
       "    <tr>\n",
       "      <th>Semantic Match absent (Degree 5)</th>\n",
       "      <td>23.5% (n=8)</td>\n",
       "      <td>11.8% (n=4)</td>\n",
       "      <td>10.6% (n=7)</td>\n",
       "      <td>25.0% (n=6)</td>\n",
       "      <td>4.2% (n=1)</td>\n",
       "      <td>22.8% (n=13)</td>\n",
       "    </tr>\n",
       "  </tbody>\n",
       "</table>\n",
       "</div>"
      ],
      "text/plain": [
       "kapitelbezeichnung                          01 Stammdaten 02 Allgemeinstatus  \\\n",
       "aggregated                                                                     \n",
       "Semantic Match present (Degree 1 and 2)      35.3% (n=12)       24.2% (n=16)   \n",
       "Semantic Asymmetry present (Degree 3 and 4)   26.5% (n=9)         2.9% (n=1)   \n",
       "Semantic Match absent (Degree 5)              23.5% (n=8)        11.8% (n=4)   \n",
       "\n",
       "kapitelbezeichnung                          03 Wundanamnese 04 Wundstatus  \\\n",
       "aggregated                                                                  \n",
       "Semantic Match present (Degree 1 and 2)          3.0% (n=2)  50.0% (n=12)   \n",
       "Semantic Asymmetry present (Degree 3 and 4)    59.1% (n=39)    3.0% (n=2)   \n",
       "Semantic Match absent (Degree 5)                10.6% (n=7)   25.0% (n=6)   \n",
       "\n",
       "kapitelbezeichnung                          05 Diagnostik   06 Therapie  \n",
       "aggregated                                                               \n",
       "Semantic Match present (Degree 1 and 2)      21.1% (n=12)    1.8% (n=1)  \n",
       "Semantic Asymmetry present (Degree 3 and 4)   20.8% (n=5)  43.9% (n=25)  \n",
       "Semantic Match absent (Degree 5)               4.2% (n=1)  22.8% (n=13)  "
      ]
     },
     "metadata": {},
     "output_type": "display_data"
    }
   ],
   "source": [
    "equi_cats_pretty = equi_cats.pivot(index='aggregated', values='coverage', columns='kapitelbezeichnung')\n",
    "# Display aggregated Coverage Rate\n",
    "display(equi_cats_pretty)"
   ]
  }
 ],
 "metadata": {
  "kernelspec": {
   "display_name": "Python 3",
   "language": "python",
   "name": "python3"
  },
  "language_info": {
   "codemirror_mode": {
    "name": "ipython",
    "version": 3
   },
   "file_extension": ".py",
   "mimetype": "text/x-python",
   "name": "python",
   "nbconvert_exporter": "python",
   "pygments_lexer": "ipython3",
   "version": "3.7.1"
  }
 },
 "nbformat": 4,
 "nbformat_minor": 2
}
