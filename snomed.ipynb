{
 "cells": [
  {
   "cell_type": "markdown",
   "metadata": {},
   "source": [
    "# Analysis of the NKDUC to SNOMED Mapping\n",
    "\n",
    "This script contains the code and the results of our analysis for our mapping of NKDUC items to SNOMED CT.\n",
    "We analysed the reliability of the mapping and the coverage rate of SNOMED CT for the NKDUC.\n",
    "\n",
    "The information about the NKDUC and the cross map is available as csv file in the subfolder <code>./data</code>."
   ]
  },
  {
   "cell_type": "markdown",
   "metadata": {},
   "source": [
    "This script includes the following sections:\n",
    "1. Load Data\n",
    "2. Compute Reliability of the mapping (Fleiss Kappa)\n",
    "3. Compute the Reliability of the equivalence Rating\n",
    "4. Compute the Coverage Rate"
   ]
  },
  {
   "cell_type": "markdown",
   "metadata": {},
   "source": [
    "## Importing and Preprocessing the Data"
   ]
  },
  {
   "cell_type": "code",
   "execution_count": 1,
   "metadata": {},
   "outputs": [],
   "source": [
    "# Mapping\n",
    "import pandas as pd\n",
    "from statsmodels.stats.inter_rater import fleiss_kappa\n",
    "import numpy as np\n",
    "res = pd.read_csv(\"./data/mapping-results.csv\")\n",
    "\n",
    "# res.finales_konzept = res.finales_konzept.map({1: True, 1: False}).astype('bool')"
   ]
  },
  {
   "cell_type": "code",
   "execution_count": 2,
   "metadata": {},
   "outputs": [],
   "source": [
    "# Recode Kapitel\n",
    "chapters_de = {\n",
    "    1: \"Stammdaten\",\n",
    "    2: \"Allgemeinstatus\",\n",
    "    3: \"Wundanamnese\",\n",
    "    4: \"Wundstatus\",\n",
    "    5: \"Diagnostik\",\n",
    "    6: \"Therapie\",\n",
    "    7: \"Patient Related Outcome (PRO)\",\n",
    "    8: \"Ernährung\",\n",
    "    9: \"Edukation\"\n",
    "}\n",
    "\n",
    "chapters_en = {\n",
    "    1: \"Master Patient Data\",\n",
    "    2: \"Allgemeinstatus\",\n",
    "    3: \"Wound Evaluation\",\n",
    "    4: \"Wound Status\",\n",
    "    5: \"Diagnostics\",\n",
    "    6: \"Therapy\",\n",
    "    7: \"Patient Related Outcome (PRO)\",\n",
    "    8: \"Nutritional Evaluation\",\n",
    "    9: \"Patient Education\"\n",
    "}\n",
    "\n",
    "\n",
    "res.kapitel = res.kapitel.map(chapters_de)\n",
    "res.kapitel = res.kapitel.astype('category').cat.as_ordered()"
   ]
  },
  {
   "cell_type": "code",
   "execution_count": 3,
   "metadata": {},
   "outputs": [],
   "source": [
    "# Compute the number of items in the chapters\n",
    "n_chapter = res.loc[:, ['kapitelbezeichnung', 'id']].drop_duplicates('id').groupby('kapitelbezeichnung').count()\n",
    "#n_overall = res.loc[:, ['id']].drop_duplicates('id').shape[0]\n",
    "#pd.DataFrame({n_overall, index=['Overall']})\n",
    "n_chapter.loc['Overall'] = n_chapter.sum(axis=0)\n",
    "n_chapter.columns = ['n']"
   ]
  },
  {
   "cell_type": "code",
   "execution_count": 4,
   "metadata": {},
   "outputs": [],
   "source": [
    "# Equivalence Labels\n",
    "equ_cat = res.equ_jens.drop_duplicates().sort_values()\n",
    "iso_categories = {\n",
    "    'Equivalence of meaning; lexical, as well as conceptual': 1,\n",
    "    'Equivalence of meaning, but with synonymy.': 2,\n",
    "    'Source concept is broader and has a less specific meaning than the target concept': 3,\n",
    "    'Source concept is narrower and has a more specific meaning than the target concept': 4,\n",
    "    'No map is possible': 5, \n",
    "}"
   ]
  },
  {
   "cell_type": "markdown",
   "metadata": {},
   "source": [
    "## Reliability of the Mapping\n",
    "### Proportional Agreement between Mappers"
   ]
  },
  {
   "cell_type": "code",
   "execution_count": 5,
   "metadata": {},
   "outputs": [],
   "source": [
    "mapping = res.pivot(index = \"id\", columns= \"id_mapper\", values= \"snomed_code\")\n",
    "mapping.columns = [\"map1\", \"map2\", \"map3\"]\n",
    "\n",
    "mapping['agree2'] = mapping.iloc[:, 1] == mapping.iloc[:, 2]\n",
    "mapping['agree3'] = mapping.iloc[:, 0] == mapping.iloc[:, 2]\n",
    "mapping['agree1'] = mapping.iloc[:, 0] == mapping.iloc[:, 1]\n",
    "\n",
    "mapping.loc[:, 'agreement_perc'] = mapping.loc[:, ['agree1', 'agree2', 'agree3']].astype('int').sum(axis=1) / 3\n",
    "mapping = res.loc[:, ['id', 'kapitelbezeichnung']].merge(right=mapping.reset_index(), on='id')\n",
    "\n",
    "agree = mapping.loc[:, ['kapitelbezeichnung', 'agreement_perc']].groupby('kapitelbezeichnung').apply(np.mean)\n",
    "\n",
    "agree.loc['Overall'] = mapping.agreement_perc.mean()"
   ]
  },
  {
   "cell_type": "markdown",
   "metadata": {},
   "source": [
    "### Fleiss-Kappa"
   ]
  },
  {
   "cell_type": "code",
   "execution_count": 6,
   "metadata": {},
   "outputs": [],
   "source": [
    "def reshape_for_fleiss_kappa(data, index='id', columns='snomed_code', n_rater=3):\n",
    "    \"\"\"\n",
    "    Restructures the dataframe to compute the Fleiss Kappa Value\n",
    "    \n",
    "    Parameters\n",
    "    ----------\n",
    "    data : pandas.DataFrame\n",
    "        A dataframe with columns snomed_code, id (the item id of the nkduc items)\n",
    "\n",
    "    Returns\n",
    "    -------\n",
    "    numpy.array\n",
    "        A numpy array, which columns represent the snomed_ct code and rows an item of the NKDUC\n",
    "        The values in the cells represent the number of raters, who chose the code for the NKDUC items\n",
    "    \"\"\"\n",
    "    # Reshape data\n",
    "    # add a column with only ones (to count the number of agreements)\n",
    "    data.loc[:, 'cnt'] = np.array([1 for i in range(data.shape[0])]) \n",
    "    # To compute fleiss kappa, the data has to be reshaped into a structure \n",
    "    # in which nkduc items are in the rows and each snomed concept is in a col\n",
    "    agreement = data.pivot_table(values='cnt', index=index, columns=columns, aggfunc='sum', fill_value = 0) # reshape data\n",
    "    # print(np.array(agreement).sum(axis=1))\n",
    "    assert all(np.array(agreement).sum(axis=1) == n_rater) # row sums should all be three (three ratings for each item)\n",
    "    return agreement"
   ]
  },
  {
   "cell_type": "code",
   "execution_count": 7,
   "metadata": {},
   "outputs": [
    {
     "name": "stderr",
     "output_type": "stream",
     "text": [
      "/Users/jens/anaconda3/lib/python3.7/site-packages/pandas/core/indexing.py:362: SettingWithCopyWarning: \n",
      "A value is trying to be set on a copy of a slice from a DataFrame.\n",
      "Try using .loc[row_indexer,col_indexer] = value instead\n",
      "\n",
      "See the caveats in the documentation: http://pandas.pydata.org/pandas-docs/stable/indexing.html#indexing-view-versus-copy\n",
      "  self.obj[key] = _infer_fill_value(value)\n",
      "/Users/jens/anaconda3/lib/python3.7/site-packages/pandas/core/indexing.py:543: SettingWithCopyWarning: \n",
      "A value is trying to be set on a copy of a slice from a DataFrame.\n",
      "Try using .loc[row_indexer,col_indexer] = value instead\n",
      "\n",
      "See the caveats in the documentation: http://pandas.pydata.org/pandas-docs/stable/indexing.html#indexing-view-versus-copy\n",
      "  self.obj[item] = s\n"
     ]
    }
   ],
   "source": [
    "d = {}\n",
    "for chapter in res.kapitelbezeichnung.drop_duplicates().values:\n",
    "    df = res.loc[res.kapitelbezeichnung == chapter, :]\n",
    "    fk_result = fleiss_kappa(reshape_for_fleiss_kappa(df))\n",
    "    d[chapter] = fk_result\n",
    "    \n",
    "d['Overall'] = fleiss_kappa(reshape_for_fleiss_kappa(res))\n",
    "\n",
    "kappa = pd.DataFrame(d, index=[0]).transpose()\n",
    "kappa.columns = ['kappa']\n"
   ]
  },
  {
   "cell_type": "code",
   "execution_count": 8,
   "metadata": {},
   "outputs": [],
   "source": [
    "mapping = agree.merge(kappa, left_index = True, right_index=True).merge(n_chapter, left_index=True, right_index=True)"
   ]
  },
  {
   "cell_type": "code",
   "execution_count": 9,
   "metadata": {
    "scrolled": true
   },
   "outputs": [
    {
     "data": {
      "text/html": [
       "<style  type=\"text/css\" >\n",
       "</style>  \n",
       "<table id=\"T_85a67b38_cd07_11ea_84ec_4c32759881fb\" > \n",
       "<thead>    <tr> \n",
       "        <th class=\"blank level0\" ></th> \n",
       "        <th class=\"col_heading level0 col0\" >agreement_perc</th> \n",
       "        <th class=\"col_heading level0 col1\" >kappa</th> \n",
       "        <th class=\"col_heading level0 col2\" >n</th> \n",
       "    </tr>    <tr> \n",
       "        <th class=\"index_name level0\" >kapitelbezeichnung</th> \n",
       "        <th class=\"blank\" ></th> \n",
       "        <th class=\"blank\" ></th> \n",
       "        <th class=\"blank\" ></th> \n",
       "    </tr></thead> \n",
       "<tbody>    <tr> \n",
       "        <th id=\"T_85a67b38_cd07_11ea_84ec_4c32759881fblevel0_row0\" class=\"row_heading level0 row0\" >01 Stammdaten</th> \n",
       "        <td id=\"T_85a67b38_cd07_11ea_84ec_4c32759881fbrow0_col0\" class=\"data row0 col0\" >60.78%</td> \n",
       "        <td id=\"T_85a67b38_cd07_11ea_84ec_4c32759881fbrow0_col1\" class=\"data row0 col1\" >0.575</td> \n",
       "        <td id=\"T_85a67b38_cd07_11ea_84ec_4c32759881fbrow0_col2\" class=\"data row0 col2\" >34</td> \n",
       "    </tr>    <tr> \n",
       "        <th id=\"T_85a67b38_cd07_11ea_84ec_4c32759881fblevel0_row1\" class=\"row_heading level0 row1\" >02 Allgemeinstatus</th> \n",
       "        <td id=\"T_85a67b38_cd07_11ea_84ec_4c32759881fbrow1_col0\" class=\"data row1 col0\" >75.76%</td> \n",
       "        <td id=\"T_85a67b38_cd07_11ea_84ec_4c32759881fbrow1_col1\" class=\"data row1 col1\" >0.754</td> \n",
       "        <td id=\"T_85a67b38_cd07_11ea_84ec_4c32759881fbrow1_col2\" class=\"data row1 col2\" >66</td> \n",
       "    </tr>    <tr> \n",
       "        <th id=\"T_85a67b38_cd07_11ea_84ec_4c32759881fblevel0_row2\" class=\"row_heading level0 row2\" >03 Wundanamnese</th> \n",
       "        <td id=\"T_85a67b38_cd07_11ea_84ec_4c32759881fbrow2_col0\" class=\"data row2 col0\" >58.33%</td> \n",
       "        <td id=\"T_85a67b38_cd07_11ea_84ec_4c32759881fbrow2_col1\" class=\"data row2 col1\" >0.568</td> \n",
       "        <td id=\"T_85a67b38_cd07_11ea_84ec_4c32759881fbrow2_col2\" class=\"data row2 col2\" >24</td> \n",
       "    </tr>    <tr> \n",
       "        <th id=\"T_85a67b38_cd07_11ea_84ec_4c32759881fblevel0_row3\" class=\"row_heading level0 row3\" >04 Wundstatus</th> \n",
       "        <td id=\"T_85a67b38_cd07_11ea_84ec_4c32759881fbrow3_col0\" class=\"data row3 col0\" >38.60%</td> \n",
       "        <td id=\"T_85a67b38_cd07_11ea_84ec_4c32759881fbrow3_col1\" class=\"data row3 col1\" >0.366</td> \n",
       "        <td id=\"T_85a67b38_cd07_11ea_84ec_4c32759881fbrow3_col2\" class=\"data row3 col2\" >57</td> \n",
       "    </tr>    <tr> \n",
       "        <th id=\"T_85a67b38_cd07_11ea_84ec_4c32759881fblevel0_row4\" class=\"row_heading level0 row4\" >05 Diagnostik</th> \n",
       "        <td id=\"T_85a67b38_cd07_11ea_84ec_4c32759881fbrow4_col0\" class=\"data row4 col0\" >33.33%</td> \n",
       "        <td id=\"T_85a67b38_cd07_11ea_84ec_4c32759881fbrow4_col1\" class=\"data row4 col1\" >0.280</td> \n",
       "        <td id=\"T_85a67b38_cd07_11ea_84ec_4c32759881fbrow4_col2\" class=\"data row4 col2\" >14</td> \n",
       "    </tr>    <tr> \n",
       "        <th id=\"T_85a67b38_cd07_11ea_84ec_4c32759881fblevel0_row5\" class=\"row_heading level0 row5\" >06 Therapie</th> \n",
       "        <td id=\"T_85a67b38_cd07_11ea_84ec_4c32759881fbrow5_col0\" class=\"data row5 col0\" >39.73%</td> \n",
       "        <td id=\"T_85a67b38_cd07_11ea_84ec_4c32759881fbrow5_col1\" class=\"data row5 col1\" >0.367</td> \n",
       "        <td id=\"T_85a67b38_cd07_11ea_84ec_4c32759881fbrow5_col2\" class=\"data row5 col2\" >73</td> \n",
       "    </tr>    <tr> \n",
       "        <th id=\"T_85a67b38_cd07_11ea_84ec_4c32759881fblevel0_row6\" class=\"row_heading level0 row6\" >Overall</th> \n",
       "        <td id=\"T_85a67b38_cd07_11ea_84ec_4c32759881fbrow6_col0\" class=\"data row6 col0\" >52.36%</td> \n",
       "        <td id=\"T_85a67b38_cd07_11ea_84ec_4c32759881fbrow6_col1\" class=\"data row6 col1\" >0.512</td> \n",
       "        <td id=\"T_85a67b38_cd07_11ea_84ec_4c32759881fbrow6_col2\" class=\"data row6 col2\" >268</td> \n",
       "    </tr></tbody> \n",
       "</table> "
      ],
      "text/plain": [
       "<pandas.io.formats.style.Styler at 0x7fb63bdc62b0>"
      ]
     },
     "execution_count": 9,
     "metadata": {},
     "output_type": "execute_result"
    }
   ],
   "source": [
    "# Display Mapping Reliability Results\n",
    "mapping.style.format({'agreement_perc': \"{:.2%}\",\n",
    "                      'kappa': \"{:.3f}\"})"
   ]
  },
  {
   "cell_type": "markdown",
   "metadata": {},
   "source": [
    "**Table 1:** Results of the Mapping, the table presents the proportional agreement for three mapper in the first column and the Fleiss-Kappa Reliability statistic in the second. The third column presents the total number of items in that section of the NKDUC. The last row represents the overall agreement, kappa and total number of items that were mapped in this project. "
   ]
  },
  {
   "cell_type": "markdown",
   "metadata": {},
   "source": [
    "# Analysis of the Equivalence Rating\n",
    "\n",
    "## Fleiss-Kappa Statistic"
   ]
  },
  {
   "cell_type": "code",
   "execution_count": 10,
   "metadata": {},
   "outputs": [],
   "source": [
    "# Overall Kappa\n",
    "df1 = res.loc[:, ['equ_jens', 'equ_mareike']].reset_index()\n",
    "df2 = df1.melt(id_vars='index')\n",
    "df3 = df2.pivot_table(values='variable', columns='value', aggfunc='count', index='index', fill_value=0)\n",
    "kappa = {'Overall': fleiss_kappa(df3)}\n",
    "\n",
    "# Kappa by NKDUC Chapter\n",
    "for chapter in res.kapitelbezeichnung.drop_duplicates().values:\n",
    "    df1 = res.loc[res.kapitelbezeichnung == chapter, ['equ_jens', 'equ_mareike']].reset_index()\n",
    "    df2 = df1.melt(id_vars='index')\n",
    "    df3 = df2.pivot_table(values='variable', columns='value', aggfunc='count', index='index', fill_value=0)\n",
    "    kappa[chapter] = fleiss_kappa(df3)\n",
    "\n",
    "kappa = pd.DataFrame(kappa, index=[0]).transpose()\n",
    "kappa.columns = ['kappa']"
   ]
  },
  {
   "cell_type": "markdown",
   "metadata": {},
   "source": [
    "## Agreement"
   ]
  },
  {
   "cell_type": "code",
   "execution_count": 11,
   "metadata": {},
   "outputs": [],
   "source": [
    "agreement_chapter = res.loc[:, ['kapitelbezeichnung', 'agreement']].groupby('kapitelbezeichnung').apply(np.mean)\n",
    "agreement_overall = res.loc[:, ['agreement']].apply(np.mean)\n",
    "agreement_overall = pd.DataFrame({'Overall': agreement_overall}).transpose()\n",
    "agreement = agreement_overall.append(agreement_chapter)"
   ]
  },
  {
   "cell_type": "code",
   "execution_count": 12,
   "metadata": {},
   "outputs": [],
   "source": [
    "# Merge kappa and agreement values\n",
    "equivalence = pd.merge(kappa, agreement, left_index=True, right_index=True).merge(n_chapter, left_index=True, right_index=True)\n",
    "equivalence = equivalence.sort_index()\n",
    "equivalence.loc[:, 'n'] = equivalence.n * 3"
   ]
  },
  {
   "cell_type": "code",
   "execution_count": 13,
   "metadata": {
    "slideshow": {
     "slide_type": "-"
    }
   },
   "outputs": [
    {
     "data": {
      "text/html": [
       "<style  type=\"text/css\" >\n",
       "</style>  \n",
       "<table id=\"T_85bee8b2_cd07_11ea_84ec_4c32759881fb\" > \n",
       "<thead>    <tr> \n",
       "        <th class=\"blank level0\" ></th> \n",
       "        <th class=\"col_heading level0 col0\" >agreement</th> \n",
       "        <th class=\"col_heading level0 col1\" >kappa</th> \n",
       "        <th class=\"col_heading level0 col2\" >n</th> \n",
       "    </tr></thead> \n",
       "<tbody>    <tr> \n",
       "        <th id=\"T_85bee8b2_cd07_11ea_84ec_4c32759881fblevel0_row0\" class=\"row_heading level0 row0\" >01 Stammdaten</th> \n",
       "        <td id=\"T_85bee8b2_cd07_11ea_84ec_4c32759881fbrow0_col0\" class=\"data row0 col0\" >83.33%</td> \n",
       "        <td id=\"T_85bee8b2_cd07_11ea_84ec_4c32759881fbrow0_col1\" class=\"data row0 col1\" >0.772</td> \n",
       "        <td id=\"T_85bee8b2_cd07_11ea_84ec_4c32759881fbrow0_col2\" class=\"data row0 col2\" >102</td> \n",
       "    </tr>    <tr> \n",
       "        <th id=\"T_85bee8b2_cd07_11ea_84ec_4c32759881fblevel0_row1\" class=\"row_heading level0 row1\" >02 Allgemeinstatus</th> \n",
       "        <td id=\"T_85bee8b2_cd07_11ea_84ec_4c32759881fbrow1_col0\" class=\"data row1 col0\" >89.90%</td> \n",
       "        <td id=\"T_85bee8b2_cd07_11ea_84ec_4c32759881fbrow1_col1\" class=\"data row1 col1\" >0.835</td> \n",
       "        <td id=\"T_85bee8b2_cd07_11ea_84ec_4c32759881fbrow1_col2\" class=\"data row1 col2\" >198</td> \n",
       "    </tr>    <tr> \n",
       "        <th id=\"T_85bee8b2_cd07_11ea_84ec_4c32759881fblevel0_row2\" class=\"row_heading level0 row2\" >03 Wundanamnese</th> \n",
       "        <td id=\"T_85bee8b2_cd07_11ea_84ec_4c32759881fbrow2_col0\" class=\"data row2 col0\" >70.83%</td> \n",
       "        <td id=\"T_85bee8b2_cd07_11ea_84ec_4c32759881fbrow2_col1\" class=\"data row2 col1\" >0.583</td> \n",
       "        <td id=\"T_85bee8b2_cd07_11ea_84ec_4c32759881fbrow2_col2\" class=\"data row2 col2\" >72</td> \n",
       "    </tr>    <tr> \n",
       "        <th id=\"T_85bee8b2_cd07_11ea_84ec_4c32759881fblevel0_row3\" class=\"row_heading level0 row3\" >04 Wundstatus</th> \n",
       "        <td id=\"T_85bee8b2_cd07_11ea_84ec_4c32759881fbrow3_col0\" class=\"data row3 col0\" >74.27%</td> \n",
       "        <td id=\"T_85bee8b2_cd07_11ea_84ec_4c32759881fbrow3_col1\" class=\"data row3 col1\" >0.641</td> \n",
       "        <td id=\"T_85bee8b2_cd07_11ea_84ec_4c32759881fbrow3_col2\" class=\"data row3 col2\" >171</td> \n",
       "    </tr>    <tr> \n",
       "        <th id=\"T_85bee8b2_cd07_11ea_84ec_4c32759881fblevel0_row4\" class=\"row_heading level0 row4\" >05 Diagnostik</th> \n",
       "        <td id=\"T_85bee8b2_cd07_11ea_84ec_4c32759881fbrow4_col0\" class=\"data row4 col0\" >59.52%</td> \n",
       "        <td id=\"T_85bee8b2_cd07_11ea_84ec_4c32759881fbrow4_col1\" class=\"data row4 col1\" >0.408</td> \n",
       "        <td id=\"T_85bee8b2_cd07_11ea_84ec_4c32759881fbrow4_col2\" class=\"data row4 col2\" >42</td> \n",
       "    </tr>    <tr> \n",
       "        <th id=\"T_85bee8b2_cd07_11ea_84ec_4c32759881fblevel0_row5\" class=\"row_heading level0 row5\" >06 Therapie</th> \n",
       "        <td id=\"T_85bee8b2_cd07_11ea_84ec_4c32759881fbrow5_col0\" class=\"data row5 col0\" >75.34%</td> \n",
       "        <td id=\"T_85bee8b2_cd07_11ea_84ec_4c32759881fbrow5_col1\" class=\"data row5 col1\" >0.667</td> \n",
       "        <td id=\"T_85bee8b2_cd07_11ea_84ec_4c32759881fbrow5_col2\" class=\"data row5 col2\" >219</td> \n",
       "    </tr>    <tr> \n",
       "        <th id=\"T_85bee8b2_cd07_11ea_84ec_4c32759881fblevel0_row6\" class=\"row_heading level0 row6\" >Overall</th> \n",
       "        <td id=\"T_85bee8b2_cd07_11ea_84ec_4c32759881fbrow6_col0\" class=\"data row6 col0\" >78.48%</td> \n",
       "        <td id=\"T_85bee8b2_cd07_11ea_84ec_4c32759881fbrow6_col1\" class=\"data row6 col1\" >0.702</td> \n",
       "        <td id=\"T_85bee8b2_cd07_11ea_84ec_4c32759881fbrow6_col2\" class=\"data row6 col2\" >804</td> \n",
       "    </tr></tbody> \n",
       "</table> "
      ],
      "text/plain": [
       "<pandas.io.formats.style.Styler at 0x7fb63d8adf60>"
      ]
     },
     "execution_count": 13,
     "metadata": {},
     "output_type": "execute_result"
    }
   ],
   "source": [
    "# Display Equivalence Rating Results\n",
    "equivalence.loc[:, ['agreement', 'kappa', 'n']].style.format({'agreement': \"{:.2%}\", 'kappa': \"{:.3f}\"})"
   ]
  },
  {
   "cell_type": "markdown",
   "metadata": {},
   "source": [
    "**Table 2:** *Reliability of the Equivalence Rating between two Rater.* To evaluate the coverage rate and the quality of the Mapping, two persons conducted an equivalence rating as it is described in the ISO Technical Report 12300. During this task, the two persons independently rated the semantic equivalence of the source NKDUC items and the target SNOMED CT concepts."
   ]
  },
  {
   "cell_type": "markdown",
   "metadata": {},
   "source": [
    "# Coverage Rate"
   ]
  },
  {
   "cell_type": "code",
   "execution_count": 14,
   "metadata": {},
   "outputs": [
    {
     "data": {
      "text/plain": [
       "False"
      ]
     },
     "execution_count": 14,
     "metadata": {},
     "output_type": "execute_result"
    }
   ],
   "source": [
    "all(res.loc[:, ['id','finales_konzept']].groupby('id').count().finales_konzept == 3)"
   ]
  },
  {
   "cell_type": "code",
   "execution_count": 15,
   "metadata": {},
   "outputs": [
    {
     "data": {
      "text/plain": [
       "(268, 2)"
      ]
     },
     "execution_count": 15,
     "metadata": {},
     "output_type": "execute_result"
    }
   ],
   "source": [
    "concept_ids = res.drop_duplicates(['id']).loc[:, ['id']]\n",
    "df=res.loc[res.finales_konzept==1, ['id','snomed_code', 'finaler_beschluss', 'descriptor','finales_konzept']]\n",
    "df.head()\n",
    "df.groupby('id').apply(np.mean).shape[0]\n",
    "res.loc[:, ['id', 'map']].drop_duplicates().shape"
   ]
  },
  {
   "cell_type": "code",
   "execution_count": 16,
   "metadata": {},
   "outputs": [],
   "source": [
    "# Create a dataset that contain the final concepts\n",
    "final_map=res.loc[res.finales_konzept==1, ['id','snomed_code', 'descriptor', 'equi_final']].drop_duplicates()\n",
    "final_map=res.drop_duplicates('id').loc[:, ['id', 'kapitelbezeichnung', 'finaler_beschluss']].merge(final_map, on='id', how='left')\n",
    "final_map.loc[:, 'descriptor'] = final_map['descriptor'].fillna('no map')\n",
    "final_map.loc[:, 'snomed_code'] = final_map['snomed_code'].fillna('no map')\n",
    "final_map.loc[:, 'equi_final'] = final_map['equi_final'].fillna('No map is possible')\n",
    "final_map['snomed_code'] = final_map['snomed_code'].apply(lambda x: False if x == 'no map' else True)\n"
   ]
  },
  {
   "cell_type": "code",
   "execution_count": 17,
   "metadata": {},
   "outputs": [
    {
     "data": {
      "text/html": [
       "<style  type=\"text/css\" >\n",
       "</style>  \n",
       "<table id=\"T_85f9f60a_cd07_11ea_84ec_4c32759881fb\" > \n",
       "<thead>    <tr> \n",
       "        <th class=\"blank level0\" ></th> \n",
       "        <th class=\"col_heading level0 col0\" >count</th> \n",
       "        <th class=\"col_heading level0 col1\" >mean</th> \n",
       "    </tr>    <tr> \n",
       "        <th class=\"index_name level0\" >kapitelbezeichnung</th> \n",
       "        <th class=\"blank\" ></th> \n",
       "        <th class=\"blank\" ></th> \n",
       "    </tr></thead> \n",
       "<tbody>    <tr> \n",
       "        <th id=\"T_85f9f60a_cd07_11ea_84ec_4c32759881fblevel0_row0\" class=\"row_heading level0 row0\" >01 Stammdaten</th> \n",
       "        <td id=\"T_85f9f60a_cd07_11ea_84ec_4c32759881fbrow0_col0\" class=\"data row0 col0\" >34</td> \n",
       "        <td id=\"T_85f9f60a_cd07_11ea_84ec_4c32759881fbrow0_col1\" class=\"data row0 col1\" >64.71%</td> \n",
       "    </tr>    <tr> \n",
       "        <th id=\"T_85f9f60a_cd07_11ea_84ec_4c32759881fblevel0_row1\" class=\"row_heading level0 row1\" >02 Allgemeinstatus</th> \n",
       "        <td id=\"T_85f9f60a_cd07_11ea_84ec_4c32759881fbrow1_col0\" class=\"data row1 col0\" >66</td> \n",
       "        <td id=\"T_85f9f60a_cd07_11ea_84ec_4c32759881fbrow1_col1\" class=\"data row1 col1\" >89.39%</td> \n",
       "    </tr>    <tr> \n",
       "        <th id=\"T_85f9f60a_cd07_11ea_84ec_4c32759881fblevel0_row2\" class=\"row_heading level0 row2\" >03 Wundanamnese</th> \n",
       "        <td id=\"T_85f9f60a_cd07_11ea_84ec_4c32759881fbrow2_col0\" class=\"data row2 col0\" >24</td> \n",
       "        <td id=\"T_85f9f60a_cd07_11ea_84ec_4c32759881fbrow2_col1\" class=\"data row2 col1\" >83.33%</td> \n",
       "    </tr>    <tr> \n",
       "        <th id=\"T_85f9f60a_cd07_11ea_84ec_4c32759881fblevel0_row3\" class=\"row_heading level0 row3\" >04 Wundstatus</th> \n",
       "        <td id=\"T_85f9f60a_cd07_11ea_84ec_4c32759881fbrow3_col0\" class=\"data row3 col0\" >57</td> \n",
       "        <td id=\"T_85f9f60a_cd07_11ea_84ec_4c32759881fbrow3_col1\" class=\"data row3 col1\" >78.95%</td> \n",
       "    </tr>    <tr> \n",
       "        <th id=\"T_85f9f60a_cd07_11ea_84ec_4c32759881fblevel0_row4\" class=\"row_heading level0 row4\" >05 Diagnostik</th> \n",
       "        <td id=\"T_85f9f60a_cd07_11ea_84ec_4c32759881fbrow4_col0\" class=\"data row4 col0\" >14</td> \n",
       "        <td id=\"T_85f9f60a_cd07_11ea_84ec_4c32759881fbrow4_col1\" class=\"data row4 col1\" >78.57%</td> \n",
       "    </tr>    <tr> \n",
       "        <th id=\"T_85f9f60a_cd07_11ea_84ec_4c32759881fblevel0_row5\" class=\"row_heading level0 row5\" >06 Therapie</th> \n",
       "        <td id=\"T_85f9f60a_cd07_11ea_84ec_4c32759881fbrow5_col0\" class=\"data row5 col0\" >73</td> \n",
       "        <td id=\"T_85f9f60a_cd07_11ea_84ec_4c32759881fbrow5_col1\" class=\"data row5 col1\" >78.08%</td> \n",
       "    </tr></tbody> \n",
       "</table> "
      ],
      "text/plain": [
       "<pandas.io.formats.style.Styler at 0x7fb63d89b898>"
      ]
     },
     "execution_count": 17,
     "metadata": {},
     "output_type": "execute_result"
    }
   ],
   "source": [
    "final_map.pivot_table(index='kapitelbezeichnung', values='snomed_code', aggfunc=('count', 'mean')).style.format({'mean': \"{:.2%}\"})"
   ]
  },
  {
   "cell_type": "markdown",
   "metadata": {},
   "source": [
    "**The table above is not part of the publication, it is a quick overview of the coverage rate, i.e., how many concepts could be matches, regardless of the equality category of the match itself.**"
   ]
  },
  {
   "cell_type": "code",
   "execution_count": 18,
   "metadata": {},
   "outputs": [],
   "source": [
    "cont_table = final_map.pivot_table(index='equi_final', values='snomed_code', columns='kapitelbezeichnung', aggfunc='count')"
   ]
  },
  {
   "cell_type": "code",
   "execution_count": 19,
   "metadata": {},
   "outputs": [],
   "source": [
    "assert np.array(cont_table.fillna(0)).sum()==268 # Check that 268 items are included in the coverage rate analysis"
   ]
  },
  {
   "cell_type": "code",
   "execution_count": 20,
   "metadata": {},
   "outputs": [],
   "source": [
    "# Count number of items (equality categories) in each chapter and each categories\n",
    "df1 = final_map.pivot_table(index=['kapitelbezeichnung', 'equi_final'], values='snomed_code', aggfunc='count').reset_index()"
   ]
  },
  {
   "cell_type": "code",
   "execution_count": 21,
   "metadata": {},
   "outputs": [],
   "source": [
    "# Add the count of items in each chapter so that the proportion of matches can be computed for\n",
    "# each chapter and each matching category\n",
    "# e.g., 12 items in 01-Allgemeinstatus had a match of category 5: no map is possible\n",
    "df2=df1.merge(n_chapter, right_index=True, left_on='kapitelbezeichnung', how='left')\n",
    "# This line actually computes the percentage/ coverage rate dependent of the chapter + category (see above)\n",
    "df2.loc[:, 'coverage_perc']=df2.snomed_code / df2.n\n",
    "\n",
    "# Pretty print\n",
    "# Add number of total items and the relative items\n",
    "l = list()\n",
    "for i in range(df2.shape[0]):\n",
    "    l.append(\"{:.1%} (n={})\".format(df2.coverage_perc[i], df2.snomed_code[i]))\n",
    "# Append the computes values as new column to pd.dataframe\n",
    "df2.loc[:, 'coverage'] = pd.Series(l)"
   ]
  },
  {
   "cell_type": "code",
   "execution_count": 22,
   "metadata": {},
   "outputs": [],
   "source": [
    "assert all(df2.groupby('kapitelbezeichnung').coverage_perc.sum().values == 1) # check if perc adds up to 1 (100%)"
   ]
  },
  {
   "cell_type": "code",
   "execution_count": 23,
   "metadata": {},
   "outputs": [
    {
     "data": {
      "text/html": [
       "<div>\n",
       "<style scoped>\n",
       "    .dataframe tbody tr th:only-of-type {\n",
       "        vertical-align: middle;\n",
       "    }\n",
       "\n",
       "    .dataframe tbody tr th {\n",
       "        vertical-align: top;\n",
       "    }\n",
       "\n",
       "    .dataframe thead th {\n",
       "        text-align: right;\n",
       "    }\n",
       "</style>\n",
       "<table border=\"1\" class=\"dataframe\">\n",
       "  <thead>\n",
       "    <tr style=\"text-align: right;\">\n",
       "      <th>kapitelbezeichnung</th>\n",
       "      <th>01 Stammdaten</th>\n",
       "      <th>02 Allgemeinstatus</th>\n",
       "      <th>03 Wundanamnese</th>\n",
       "      <th>04 Wundstatus</th>\n",
       "      <th>05 Diagnostik</th>\n",
       "      <th>06 Therapie</th>\n",
       "    </tr>\n",
       "    <tr>\n",
       "      <th>equi_final</th>\n",
       "      <th></th>\n",
       "      <th></th>\n",
       "      <th></th>\n",
       "      <th></th>\n",
       "      <th></th>\n",
       "      <th></th>\n",
       "    </tr>\n",
       "  </thead>\n",
       "  <tbody>\n",
       "    <tr>\n",
       "      <th>Equivalence of meaning; lexical, as well as conceptual</th>\n",
       "      <td>23.5% (n=8)</td>\n",
       "      <td>59.1% (n=39)</td>\n",
       "      <td>50.0% (n=12)</td>\n",
       "      <td>43.9% (n=25)</td>\n",
       "      <td>35.7% (n=5)</td>\n",
       "      <td>38.4% (n=28)</td>\n",
       "    </tr>\n",
       "    <tr>\n",
       "      <th>Equivalence of meaning, but with synonymy.</th>\n",
       "      <td>26.5% (n=9)</td>\n",
       "      <td>24.2% (n=16)</td>\n",
       "      <td>25.0% (n=6)</td>\n",
       "      <td>21.1% (n=12)</td>\n",
       "      <td>21.4% (n=3)</td>\n",
       "      <td>23.3% (n=17)</td>\n",
       "    </tr>\n",
       "    <tr>\n",
       "      <th>Source concept is broader and has a less specific meaning than the target concept</th>\n",
       "      <td>2.9% (n=1)</td>\n",
       "      <td>3.0% (n=2)</td>\n",
       "      <td>4.2% (n=1)</td>\n",
       "      <td>1.8% (n=1)</td>\n",
       "      <td>-</td>\n",
       "      <td>1.4% (n=1)</td>\n",
       "    </tr>\n",
       "    <tr>\n",
       "      <th>Source concept is narrower and has a more specific meaning than the target concept</th>\n",
       "      <td>11.8% (n=4)</td>\n",
       "      <td>3.0% (n=2)</td>\n",
       "      <td>-</td>\n",
       "      <td>10.5% (n=6)</td>\n",
       "      <td>21.4% (n=3)</td>\n",
       "      <td>15.1% (n=11)</td>\n",
       "    </tr>\n",
       "    <tr>\n",
       "      <th>No map is possible</th>\n",
       "      <td>35.3% (n=12)</td>\n",
       "      <td>10.6% (n=7)</td>\n",
       "      <td>20.8% (n=5)</td>\n",
       "      <td>22.8% (n=13)</td>\n",
       "      <td>21.4% (n=3)</td>\n",
       "      <td>21.9% (n=16)</td>\n",
       "    </tr>\n",
       "  </tbody>\n",
       "</table>\n",
       "</div>"
      ],
      "text/plain": [
       "kapitelbezeichnung                                 01 Stammdaten  \\\n",
       "equi_final                                                         \n",
       "Equivalence of meaning; lexical, as well as con...   23.5% (n=8)   \n",
       "Equivalence of meaning, but with synonymy.           26.5% (n=9)   \n",
       "Source concept is broader and has a less specif...    2.9% (n=1)   \n",
       "Source concept is narrower and has a more speci...   11.8% (n=4)   \n",
       "No map is possible                                  35.3% (n=12)   \n",
       "\n",
       "kapitelbezeichnung                                 02 Allgemeinstatus  \\\n",
       "equi_final                                                              \n",
       "Equivalence of meaning; lexical, as well as con...       59.1% (n=39)   \n",
       "Equivalence of meaning, but with synonymy.               24.2% (n=16)   \n",
       "Source concept is broader and has a less specif...         3.0% (n=2)   \n",
       "Source concept is narrower and has a more speci...         3.0% (n=2)   \n",
       "No map is possible                                        10.6% (n=7)   \n",
       "\n",
       "kapitelbezeichnung                                 03 Wundanamnese  \\\n",
       "equi_final                                                           \n",
       "Equivalence of meaning; lexical, as well as con...    50.0% (n=12)   \n",
       "Equivalence of meaning, but with synonymy.             25.0% (n=6)   \n",
       "Source concept is broader and has a less specif...      4.2% (n=1)   \n",
       "Source concept is narrower and has a more speci...               -   \n",
       "No map is possible                                     20.8% (n=5)   \n",
       "\n",
       "kapitelbezeichnung                                 04 Wundstatus  \\\n",
       "equi_final                                                         \n",
       "Equivalence of meaning; lexical, as well as con...  43.9% (n=25)   \n",
       "Equivalence of meaning, but with synonymy.          21.1% (n=12)   \n",
       "Source concept is broader and has a less specif...    1.8% (n=1)   \n",
       "Source concept is narrower and has a more speci...   10.5% (n=6)   \n",
       "No map is possible                                  22.8% (n=13)   \n",
       "\n",
       "kapitelbezeichnung                                 05 Diagnostik   06 Therapie  \n",
       "equi_final                                                                      \n",
       "Equivalence of meaning; lexical, as well as con...   35.7% (n=5)  38.4% (n=28)  \n",
       "Equivalence of meaning, but with synonymy.           21.4% (n=3)  23.3% (n=17)  \n",
       "Source concept is broader and has a less specif...             -    1.4% (n=1)  \n",
       "Source concept is narrower and has a more speci...   21.4% (n=3)  15.1% (n=11)  \n",
       "No map is possible                                   21.4% (n=3)  21.9% (n=16)  "
      ]
     },
     "metadata": {},
     "output_type": "display_data"
    }
   ],
   "source": [
    "# Actually format for display the data (pivot_wide: Chapters in cols and equi categories in the rows)\n",
    "df3=df2.pivot(index='equi_final', columns='kapitelbezeichnung', values='coverage').fillna(\"-\").reset_index()\n",
    "df3.loc[:, 'equi_final'] = df3.equi_final.astype('category')\n",
    "df3.loc[:, 'equi_final'] = df3['equi_final'].cat.reorder_categories(list(iso_categories.keys()))\n",
    "df3 = df3.sort_values(by='equi_final')\n",
    "df3.set_index('equi_final', inplace=True)\n",
    "# Display Detailled Coverage Rate\n",
    "display(df3)"
   ]
  },
  {
   "cell_type": "markdown",
   "metadata": {},
   "source": [
    "**Appendix 1:** The table shows the coverage rates for each category for each section of the NKDUC. In the publication we included the table with aggregated categories, to demonstrate the number of matches (Cat 1 + 2), matches with asymmetry (Cat 3 + 4), and no matches (Cat 5).\n",
    "\n",
    "*This aggregated table is shown below*"
   ]
  },
  {
   "cell_type": "code",
   "execution_count": 24,
   "metadata": {},
   "outputs": [],
   "source": [
    "#df2.loc[:, 'equi_final'] = df2.equi_final.astype('category', categories=list(d.keys()), ordered=True)\n",
    "iso_cats_agg = {\n",
    "    'Equivalence of meaning; lexical, as well as conceptual': 'Semantic Match present (Degree 1 and 2)',\n",
    "    'Equivalence of meaning, but with synonymy.': 'Semantic Match present (Degree 1 and 2)',\n",
    "    'Source concept is broader and has a less specific meaning than the target concept': 'Semantic Asymmetry present (Degree 3 and 4)',\n",
    "    'Source concept is narrower and has a more specific meaning than the target concept': 'Semantic Asymmetry present (Degree 3 and 4)',\n",
    "    'No map is possible': 'Semantic Match absent (Degree 5)', \n",
    "}\n"
   ]
  },
  {
   "cell_type": "code",
   "execution_count": 25,
   "metadata": {},
   "outputs": [],
   "source": [
    "df3.index = df3.index.map(iso_cats_agg)"
   ]
  },
  {
   "cell_type": "code",
   "execution_count": 26,
   "metadata": {},
   "outputs": [],
   "source": [
    "# Define the category order for the categorical variable 'Final equivalence rating (equi_final)'\n",
    "cats = ['Semantic Match present (Degree 1 and 2)', 'Semantic Asymmetry present (Degree 3 and 4)', 'Semantic Match absent (Degree 5)']"
   ]
  },
  {
   "cell_type": "code",
   "execution_count": 27,
   "metadata": {},
   "outputs": [
    {
     "data": {
      "text/html": [
       "<div>\n",
       "<style scoped>\n",
       "    .dataframe tbody tr th:only-of-type {\n",
       "        vertical-align: middle;\n",
       "    }\n",
       "\n",
       "    .dataframe tbody tr th {\n",
       "        vertical-align: top;\n",
       "    }\n",
       "\n",
       "    .dataframe thead th {\n",
       "        text-align: right;\n",
       "    }\n",
       "</style>\n",
       "<table border=\"1\" class=\"dataframe\">\n",
       "  <thead>\n",
       "    <tr style=\"text-align: right;\">\n",
       "      <th></th>\n",
       "      <th>Overall</th>\n",
       "      <th>01 Stammdaten</th>\n",
       "      <th>02 Allgemeinstatus</th>\n",
       "      <th>03 Wundanamnese</th>\n",
       "      <th>04 Wundstatus</th>\n",
       "      <th>05 Diagnostik</th>\n",
       "      <th>06 Therapie</th>\n",
       "    </tr>\n",
       "    <tr>\n",
       "      <th>equi_final</th>\n",
       "      <th></th>\n",
       "      <th></th>\n",
       "      <th></th>\n",
       "      <th></th>\n",
       "      <th></th>\n",
       "      <th></th>\n",
       "      <th></th>\n",
       "    </tr>\n",
       "  </thead>\n",
       "  <tbody>\n",
       "    <tr>\n",
       "      <th>Semantic Match present (Degree 1 and 2)</th>\n",
       "      <td>67.2% (n=180)</td>\n",
       "      <td>50.0% (n=17)</td>\n",
       "      <td>83.3% (n=55)</td>\n",
       "      <td>75.0% (n=18)</td>\n",
       "      <td>64.9% (n=37)</td>\n",
       "      <td>57.1% (n=8)</td>\n",
       "      <td>61.6% (n=45)</td>\n",
       "    </tr>\n",
       "    <tr>\n",
       "      <th>Semantic Asymmetry present (Degree 3 and 4)</th>\n",
       "      <td>11.9% (n=32)</td>\n",
       "      <td>14.7% (n=5)</td>\n",
       "      <td>6.1% (n=4)</td>\n",
       "      <td>4.2% (n=1)</td>\n",
       "      <td>12.3% (n=7)</td>\n",
       "      <td>21.4% (n=3)</td>\n",
       "      <td>16.4% (n=12)</td>\n",
       "    </tr>\n",
       "    <tr>\n",
       "      <th>Semantic Match absent (Degree 5)</th>\n",
       "      <td>20.9% (n=56)</td>\n",
       "      <td>35.3% (n=12)</td>\n",
       "      <td>10.6% (n=7)</td>\n",
       "      <td>20.8% (n=5)</td>\n",
       "      <td>22.8% (n=13)</td>\n",
       "      <td>21.4% (n=3)</td>\n",
       "      <td>21.9% (n=16)</td>\n",
       "    </tr>\n",
       "  </tbody>\n",
       "</table>\n",
       "</div>"
      ],
      "text/plain": [
       "                                                   Overall 01 Stammdaten  \\\n",
       "equi_final                                                                 \n",
       "Semantic Match present (Degree 1 and 2)      67.2% (n=180)  50.0% (n=17)   \n",
       "Semantic Asymmetry present (Degree 3 and 4)   11.9% (n=32)   14.7% (n=5)   \n",
       "Semantic Match absent (Degree 5)              20.9% (n=56)  35.3% (n=12)   \n",
       "\n",
       "                                            02 Allgemeinstatus  \\\n",
       "equi_final                                                       \n",
       "Semantic Match present (Degree 1 and 2)           83.3% (n=55)   \n",
       "Semantic Asymmetry present (Degree 3 and 4)         6.1% (n=4)   \n",
       "Semantic Match absent (Degree 5)                   10.6% (n=7)   \n",
       "\n",
       "                                            03 Wundanamnese 04 Wundstatus  \\\n",
       "equi_final                                                                  \n",
       "Semantic Match present (Degree 1 and 2)        75.0% (n=18)  64.9% (n=37)   \n",
       "Semantic Asymmetry present (Degree 3 and 4)      4.2% (n=1)   12.3% (n=7)   \n",
       "Semantic Match absent (Degree 5)                20.8% (n=5)  22.8% (n=13)   \n",
       "\n",
       "                                            05 Diagnostik   06 Therapie  \n",
       "equi_final                                                               \n",
       "Semantic Match present (Degree 1 and 2)       57.1% (n=8)  61.6% (n=45)  \n",
       "Semantic Asymmetry present (Degree 3 and 4)   21.4% (n=3)  16.4% (n=12)  \n",
       "Semantic Match absent (Degree 5)              21.4% (n=3)  21.9% (n=16)  "
      ]
     },
     "execution_count": 27,
     "metadata": {},
     "output_type": "execute_result"
    }
   ],
   "source": [
    "coverage = df2.copy(deep=True)\n",
    "coverage.loc[:, 'equi_final'] = coverage.equi_final.map(iso_cats_agg)\n",
    "\n",
    "coverage.drop('n', axis=1, inplace=True)\n",
    "coverage.rename({'snomed_code': 'n'}, axis=1, inplace=True)\n",
    "\n",
    "coverage = coverage.groupby(['kapitelbezeichnung', 'equi_final']).agg({'n': np.sum, 'coverage_perc': np.sum})\n",
    "\n",
    "def format_aggregates(data):\n",
    "    l = list()\n",
    "    for i in range(data.shape[0]):\n",
    "        l.append(\"{:.1%} (n={})\".format(data.coverage_perc[i], data.n[i]))\n",
    "    data.loc[:, 'formatted'] = l\n",
    "    return(data)\n",
    "\n",
    "format_aggregates(coverage).reset_index(inplace=True)\n",
    "\n",
    "coverage.loc[:, 'equi_final'] = coverage.equi_final.astype('category')\n",
    "coverage.loc[:, 'equi_final'] = coverage.equi_final.cat.reorder_categories(new_categories=cats, ordered=True)\n",
    "\n",
    "coverage_chapters = coverage.pivot(index='equi_final', columns='kapitelbezeichnung', values='formatted')\n",
    "\n",
    "coverage_overall = coverage.set_index('equi_final').groupby(level=0).agg({'n': np.sum})\n",
    "coverage_overall = coverage_overall.assign(coverage_perc=lambda x: x.n/268)\n",
    "coverage_overall = coverage_overall.assign(formatted=lambda x: format_aggregates(x).formatted)\n",
    "coverage_overall.rename({'formatted': 'Overall'}, axis=1, inplace=True)\n",
    "\n",
    "coverage_overall.loc[:,['Overall']].merge(coverage_chapters, left_index=True, right_index=True, how='left')\n"
   ]
  },
  {
   "cell_type": "markdown",
   "metadata": {},
   "source": [
    "**Table 3:** Coverage rate of the mapping presented using ISO TR 12300 equivalence categories for the complete NKDUC and each of its sections."
   ]
  }
 ],
 "metadata": {
  "kernelspec": {
   "display_name": "Python 3",
   "language": "python",
   "name": "python3"
  },
  "language_info": {
   "codemirror_mode": {
    "name": "ipython",
    "version": 3
   },
   "file_extension": ".py",
   "mimetype": "text/x-python",
   "name": "python",
   "nbconvert_exporter": "python",
   "pygments_lexer": "ipython3",
   "version": "3.7.1"
  }
 },
 "nbformat": 4,
 "nbformat_minor": 2
}
